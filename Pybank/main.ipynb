{
 "cells": [
  {
   "cell_type": "code",
   "execution_count": 69,
   "id": "9d941bce-4255-4e08-bed6-b5073e160fe0",
   "metadata": {},
   "outputs": [],
   "source": [
    "#library and Load file\n",
    "from pathlib import Path\n",
    "import csv\n",
    "\n",
    "csvpath = Path(r\"C:/Users/PC2/Downloads/budget_data.csv\")"
   ]
  },
  {
   "cell_type": "code",
   "execution_count": null,
   "id": "1bba37b9-ce9c-4a55-aa56-88a991e798ab",
   "metadata": {},
   "outputs": [],
   "source": [
    "#Declare variables"
   ]
  },
  {
   "cell_type": "code",
   "execution_count": 70,
   "id": "80fb1148-5642-4968-a6e2-42698a89b7d2",
   "metadata": {},
   "outputs": [],
   "source": [
    "months_total = 0\n",
    "net_total = 0\n",
    "greatest_increase = [\"\",0]\n",
    "greatest_decrease = [\"\",0]\n",
    "month_change_list = []\n",
    "net_change_list = []"
   ]
  },
  {
   "cell_type": "code",
   "execution_count": 71,
   "id": "9923e114-e6e9-45a4-a066-ae6e2973f8b8",
   "metadata": {},
   "outputs": [],
   "source": [
    "# Totals\n",
    "\n",
    "with open(csvpath,\"r\") as csvfile: \n",
    "    reader = csv.reader(csvfile)\n",
    "    \n",
    "    header = next(reader)\n",
    "    \n",
    "    first_row = next(reader)\n",
    "    months_total = 1 + months_total\n",
    "    \n",
    "    \n",
    "    net_total = net_total + int(first_row[1])\n",
    "    pre_net = int(first_row[1])\n",
    "    \n",
    "    for row in reader:\n",
    "        months_total = 1+ months_total\n",
    "        net_total = net_total + int(row[1])\n",
    "    \n",
    "#Track the net    \n",
    "        net_change = int(row[1]) - pre_net\n",
    "        pre_net = int(row[1])\n",
    "        net_change_list = net_change_list + [net_change] \n",
    "        month_change_list = month_change_list + [row[0]]\n",
    "    \n",
    "# Calculate the graetest change    \n",
    "        if net_change > greatest_increase[1]:\n",
    "            greatest_increase [0]= row[0]\n",
    "            greatest_increase[1] = net_change\n",
    "           \n",
    "    \n",
    "        \n",
    "        if net_change < greatest_decrease[1]:\n",
    "            greatest_decrease[0] = row[0]\n",
    "            greatest_decrease[1] = net_change\n",
    "        "
   ]
  },
  {
   "cell_type": "code",
   "execution_count": null,
   "id": "c4a1cf83-1d10-4812-9375-cdf84ed43fd9",
   "metadata": {},
   "outputs": [],
   "source": []
  },
  {
   "cell_type": "code",
   "execution_count": null,
   "id": "e48eade1-29e0-4fed-9265-beafb84fb10f",
   "metadata": {},
   "outputs": [],
   "source": []
  },
  {
   "cell_type": "code",
   "execution_count": 72,
   "id": "ba4522c7-6c67-42a1-a207-d127914e0c5d",
   "metadata": {},
   "outputs": [],
   "source": [
    "#calculate the avarage\n",
    "net_average = sum(net_change_list) / len(net_change_list)\n",
    "net_average = round (net_average, 2 )"
   ]
  },
  {
   "cell_type": "code",
   "execution_count": 73,
   "id": "490c7889-2268-4399-af7c-25cf3460e667",
   "metadata": {
    "tags": []
   },
   "outputs": [
    {
     "data": {
      "text/plain": [
       "-2315.12"
      ]
     },
     "execution_count": 73,
     "metadata": {},
     "output_type": "execute_result"
    }
   ],
   "source": [
    "net_average"
   ]
  },
  {
   "cell_type": "code",
   "execution_count": 74,
   "id": "50579a8a-c094-4877-aa68-dab1c5b58027",
   "metadata": {
    "tags": []
   },
   "outputs": [
    {
     "data": {
      "text/plain": [
       "86"
      ]
     },
     "execution_count": 74,
     "metadata": {},
     "output_type": "execute_result"
    }
   ],
   "source": [
    "months_total "
   ]
  },
  {
   "cell_type": "code",
   "execution_count": 75,
   "id": "a26dd312-51d7-4a54-a7b9-269a95ba3239",
   "metadata": {},
   "outputs": [
    {
     "data": {
      "text/plain": [
       "38382578"
      ]
     },
     "execution_count": 75,
     "metadata": {},
     "output_type": "execute_result"
    }
   ],
   "source": [
    "net_total"
   ]
  },
  {
   "cell_type": "code",
   "execution_count": 76,
   "id": "60887a3e-f32c-45e4-b131-e4491b3f79d9",
   "metadata": {},
   "outputs": [
    {
     "data": {
      "text/plain": [
       "['Feb-2012', 1926159]"
      ]
     },
     "execution_count": 76,
     "metadata": {},
     "output_type": "execute_result"
    }
   ],
   "source": [
    "greatest_increase"
   ]
  },
  {
   "cell_type": "code",
   "execution_count": 77,
   "id": "d28647af-033f-4bf2-9f03-a53894ad6ba4",
   "metadata": {
    "tags": []
   },
   "outputs": [
    {
     "data": {
      "text/plain": [
       "['Sep-2013', -2196167]"
      ]
     },
     "execution_count": 77,
     "metadata": {},
     "output_type": "execute_result"
    }
   ],
   "source": [
    "greatest_decrease"
   ]
  },
  {
   "cell_type": "code",
   "execution_count": 78,
   "id": "b716c8a7-6ca1-495c-9325-011520faaeba",
   "metadata": {},
   "outputs": [],
   "source": [
    "#Print an output\n",
    "aggregate_path= Path(\"output_1.txt\")"
   ]
  },
  {
   "cell_type": "code",
   "execution_count": 79,
   "id": "56597419-0579-4ae7-bb2a-18f325772200",
   "metadata": {
    "tags": []
   },
   "outputs": [],
   "source": [
    "with open(aggregate_path, \"w\") as txt_file:\n",
    "    txt_file.write(f\"Financial Analysis\\n\")\n",
    "    txt_file.write(f\"----------------------------\\n\")\n",
    "    txt_file.write(f\"Total Months: {months_total}\\n\")\n",
    "    txt_file.write(f\"Total: ${net_total}\\n\")\n",
    "    txt_file.write(f\"Average  Change: ${net_average}\\n\")\n",
    "    txt_file.write(f\"Greatest Increase in Profits: {greatest_increase[0]} (${greatest_increase[1]})\\n\")\n",
    "    txt_file.write(f\"Greatest Decrease in Profits: {greatest_decrease[0]} (${greatest_decrease[1]})\\n\")"
   ]
  }
 ],
 "metadata": {
  "kernelspec": {
   "display_name": "Python 3 (ipykernel)",
   "language": "python",
   "name": "python3"
  },
  "language_info": {
   "codemirror_mode": {
    "name": "ipython",
    "version": 3
   },
   "file_extension": ".py",
   "mimetype": "text/x-python",
   "name": "python",
   "nbconvert_exporter": "python",
   "pygments_lexer": "ipython3",
   "version": "3.11.4"
  }
 },
 "nbformat": 4,
 "nbformat_minor": 5
}
